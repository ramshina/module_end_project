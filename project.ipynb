{
 "cells": [
  {
   "cell_type": "markdown",
   "id": "7308e641",
   "metadata": {},
   "source": [
    "# project"
   ]
  },
  {
   "cell_type": "code",
   "execution_count": 24,
   "id": "47b07640",
   "metadata": {},
   "outputs": [],
   "source": [
    "import pandas as pd\n",
    "import numpy as np\n",
    "import matplotlib.pyplot as plt"
   ]
  },
  {
   "cell_type": "code",
   "execution_count": 4,
   "id": "e7d7190a",
   "metadata": {},
   "outputs": [],
   "source": [
    "df=pd.read_csv(r\"C:\\Users\\91730\\Downloads\\myexcel - myexcel.csv.csv\")"
   ]
  },
  {
   "cell_type": "code",
   "execution_count": 5,
   "id": "935068a9",
   "metadata": {},
   "outputs": [
    {
     "name": "stdout",
     "output_type": "stream",
     "text": [
      "            Name            Team  Number Position  Age  Height  Weight  \\\n",
      "0  Avery Bradley  Boston Celtics       0       PG   25  06-Feb     180   \n",
      "1    Jae Crowder  Boston Celtics      99       SF   25  06-Jun     235   \n",
      "2   John Holland  Boston Celtics      30       SG   27  06-May     205   \n",
      "3    R.J. Hunter  Boston Celtics      28       SG   22  06-May     185   \n",
      "4  Jonas Jerebko  Boston Celtics       8       PF   29  06-Oct     231   \n",
      "\n",
      "             College     Salary  \n",
      "0              Texas  7730337.0  \n",
      "1          Marquette  6796117.0  \n",
      "2  Boston University        NaN  \n",
      "3      Georgia State  1148640.0  \n",
      "4                NaN  5000000.0  \n"
     ]
    }
   ],
   "source": [
    "print(df.head())"
   ]
  },
  {
   "cell_type": "code",
   "execution_count": 16,
   "id": "8b89a1e9",
   "metadata": {},
   "outputs": [
    {
     "name": "stdout",
     "output_type": "stream",
     "text": [
      "            Name            Team  Number Position  Age  Height  Weight  \\\n",
      "0  Avery Bradley  Boston Celtics       0       PG   25     179     180   \n",
      "1    Jae Crowder  Boston Celtics      99       SF   25     165     235   \n",
      "2   John Holland  Boston Celtics      30       SG   27     163     205   \n",
      "3    R.J. Hunter  Boston Celtics      28       SG   22     161     185   \n",
      "4  Jonas Jerebko  Boston Celtics       8       PF   29     159     231   \n",
      "\n",
      "             College     Salary  \n",
      "0              Texas  7730337.0  \n",
      "1          Marquette  6796117.0  \n",
      "2  Boston University             \n",
      "3      Georgia State  1148640.0  \n",
      "4                     5000000.0  \n"
     ]
    }
   ],
   "source": [
    "df['Height']=np.random.randint(150,181,size=len(df))\n",
    "df.fillna('',inplace=True)\n",
    "print(df.head())"
   ]
  },
  {
   "cell_type": "markdown",
   "id": "786fbfe5",
   "metadata": {},
   "source": [
    "### 1.HOW MANY ARE THERE IN EACH TEAM AND THE PERCENTAGE SPLITTING WITH RESPECT TO THE TOTAL EMPLOYEE"
   ]
  },
  {
   "cell_type": "code",
   "execution_count": 23,
   "id": "d6486763",
   "metadata": {},
   "outputs": [
    {
     "name": "stdout",
     "output_type": "stream",
     "text": [
      "Team\n",
      "Atlanta Hawks             3.275109\n",
      "Boston Celtics            3.275109\n",
      "Brooklyn Nets             3.275109\n",
      "Charlotte Hornets         3.275109\n",
      "Chicago Bulls             3.275109\n",
      "Cleveland Cavaliers       3.275109\n",
      "Dallas Mavericks          3.275109\n",
      "Denver Nuggets            3.275109\n",
      "Detroit Pistons           3.275109\n",
      "Golden State Warriors     3.275109\n",
      "Houston Rockets           3.275109\n",
      "Indiana Pacers            3.275109\n",
      "Los Angeles Clippers      3.275109\n",
      "Los Angeles Lakers        3.275109\n",
      "Memphis Grizzlies         3.930131\n",
      "Miami Heat                3.275109\n",
      "Milwaukee Bucks           3.493450\n",
      "Minnesota Timberwolves    3.056769\n",
      "New Orleans Pelicans      4.148472\n",
      "New York Knicks           3.493450\n",
      "Oklahoma City Thunder     3.275109\n",
      "Orlando Magic             3.056769\n",
      "Philadelphia 76ers        3.275109\n",
      "Phoenix Suns              3.275109\n",
      "Portland Trail Blazers    3.275109\n",
      "Sacramento Kings          3.275109\n",
      "San Antonio Spurs         3.275109\n",
      "Toronto Raptors           3.275109\n",
      "Utah Jazz                 3.493450\n",
      "Washington Wizards        3.275109\n",
      "dtype: float64\n"
     ]
    }
   ],
   "source": [
    "team_counts=df.groupby('Team').size()\n",
    "team_percentage=(team_counts/len(df)) * 100\n",
    "print(team_percentage)"
   ]
  },
  {
   "cell_type": "markdown",
   "id": "8c759994",
   "metadata": {},
   "source": [
    "### 2.SEGRAGATE THE EMPLOYEES WITH RESPECT TO DIFFRENT POSITION"
   ]
  },
  {
   "cell_type": "code",
   "execution_count": 22,
   "id": "ff10909b",
   "metadata": {},
   "outputs": [
    {
     "name": "stdout",
     "output_type": "stream",
     "text": [
      "Position\n",
      "SG    102\n",
      "PF    100\n",
      "PG     92\n",
      "SF     85\n",
      "C      79\n",
      "Name: count, dtype: int64\n"
     ]
    }
   ],
   "source": [
    "position_counts=df['Position'].value_counts()\n",
    "print(position_counts)"
   ]
  },
  {
   "cell_type": "markdown",
   "id": "c2df64fb",
   "metadata": {},
   "source": [
    "### 3. FIND THE AGE GROUP WITH THE MOST EMPLOYEES"
   ]
  },
  {
   "cell_type": "code",
   "execution_count": 28,
   "id": "88e4639b",
   "metadata": {},
   "outputs": [
    {
     "name": "stdout",
     "output_type": "stream",
     "text": [
      "(25, 35]\n"
     ]
    }
   ],
   "source": [
    "age_group=pd.cut(df['Age'],\n",
    "bins=[18,25,35,45,55,65])\n",
    "most_common_age_group=age_group.value_counts().idxmax()\n",
    "print(most_common_age_group)"
   ]
  },
  {
   "cell_type": "markdown",
   "id": "c22ed996",
   "metadata": {},
   "source": [
    "### 4. FIND OUT UNDER WHICH TEAM AND POSITION THE SPENDING IN TERM OF SALARY HIGH"
   ]
  },
  {
   "cell_type": "code",
   "execution_count": 37,
   "id": "01d1016e",
   "metadata": {
    "scrolled": true
   },
   "outputs": [
    {
     "name": "stdout",
     "output_type": "stream",
     "text": [
      "Team with highest spending : Los Angeles Lakers\n",
      "Postion with highest spending position: SF\n"
     ]
    }
   ],
   "source": [
    "df['Salary']=pd.to_numeric(df['Salary'])\n",
    "team_position_salary=df.groupby(['Team','Position'])['Salary'].sum().reset_index()\n",
    "max_salary_index=team_position_salary['Salary'].idxmax()\n",
    "hightest_spending_team=team_position_salary.loc[max_salary_index,'Team']\n",
    "hightest_spending_position=team_position_salary.loc[max_salary_index,'Position']\n",
    "print(\"Team with highest spending :\",hightest_spending_team)\n",
    "print(\"Postion with highest spending position:\",hightest_spending_position)\n"
   ]
  },
  {
   "cell_type": "markdown",
   "id": "b639a75a",
   "metadata": {},
   "source": [
    "### 5.FIND IF THERE IS ANY CORRECTION BETWEEN AGE AND SALARY ,REPRESENT IT VISUALLY"
   ]
  },
  {
   "cell_type": "code",
   "execution_count": 38,
   "id": "36724e93",
   "metadata": {},
   "outputs": [
    {
     "data": {
      "text/plain": [
       "<Axes: xlabel='Age', ylabel='Salary'>"
      ]
     },
     "execution_count": 38,
     "metadata": {},
     "output_type": "execute_result"
    },
    {
     "data": {
      "image/png": "[encoded data removed]",
      "text/plain": [
       "<Figure size 640x480 with 1 Axes>"
      ]
     },
     "metadata": {},
     "output_type": "display_data"
    }
   ],
   "source": [
    "df.plot.scatter(x='Age',y='Salary')"
   ]
  },
  {
   "cell_type": "code",
   "execution_count": null,
   "id": "cc032cf0",
   "metadata": {},
   "outputs": [],
   "source": []
  }
 ],
 "metadata": {
  "kernelspec": {
   "display_name": "Python 3 (ipykernel)",
   "language": "python",
   "name": "python3"
  },
  "language_info": {
   "codemirror_mode": {
    "name": "ipython",
    "version": 3
   },
   "file_extension": ".py",
   "mimetype": "text/x-python",
   "name": "python",
   "nbconvert_exporter": "python",
   "pygments_lexer": "ipython3",
   "version": "3.11.1"
  }
 },
 "nbformat": 4,
 "nbformat_minor": 5
}
